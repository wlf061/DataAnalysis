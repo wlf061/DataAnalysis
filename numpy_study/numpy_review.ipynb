{
 "cells": [
  {
   "cell_type": "code",
   "execution_count": 2,
   "metadata": {},
   "outputs": [],
   "source": [
    "import numpy as np\n",
    "\n",
    "a = np.array([1, 2, 3])   # Create a rank 1 array"
   ]
  },
  {
   "cell_type": "code",
   "execution_count": 4,
   "metadata": {},
   "outputs": [
    {
     "data": {
      "text/plain": [
       "dtype('int32')"
      ]
     },
     "execution_count": 4,
     "metadata": {},
     "output_type": "execute_result"
    }
   ],
   "source": [
    "a.dtype"
   ]
  },
  {
   "cell_type": "code",
   "execution_count": null,
   "metadata": {},
   "outputs": [],
   "source": [
    "##https://zhuanlan.zhihu.com/p/39287693 讲解 numpy axis 和shape 的使用心法"
   ]
  },
  {
   "cell_type": "code",
   "execution_count": null,
   "metadata": {},
   "outputs": [],
   "source": [
    "#切片的使用心法"
   ]
  },
  {
   "cell_type": "code",
   "execution_count": 14,
   "metadata": {},
   "outputs": [
    {
     "name": "stdout",
     "output_type": "stream",
     "text": [
      "(3, 3)\n",
      "从数组索引 a[1:] 处开始切割\n",
      "[[3 4 5]\n",
      " [4 5 6]]\n"
     ]
    }
   ],
   "source": [
    "a = np.array([[1,2,3],[3,4,5],[4,5,6]])\n",
    "print(a.shape)\n",
    "# 从某个索引处开始切割\n",
    "print('从数组索引 a[1:] 处开始切割')\n",
    "print(a[1:])"
   ]
  },
  {
   "cell_type": "code",
   "execution_count": 11,
   "metadata": {},
   "outputs": [],
   "source": [
    "# int8, int16, int32, int64 四种数据类型可以使用字符串 'i1', 'i2','i4','i8' 代替\n",
    "persontype = np.dtype({'names':['name','age','chinese','math','english'],\n",
    "           'formats':['S32','i','i','i','f']})\n",
    "peoples = np.array([(\"zhangFei\",32,75,100,90),(\"GuanYu\",24,85,96,88.5),\n",
    "                    (\"zhaoYun\",28,85,92,96.5),(\"HuangZhong\",29,65,85,100)],dtype=persontype)"
   ]
  },
  {
   "cell_type": "code",
   "execution_count": 15,
   "metadata": {},
   "outputs": [
    {
     "data": {
      "text/plain": [
       "(4,)"
      ]
     },
     "execution_count": 15,
     "metadata": {},
     "output_type": "execute_result"
    }
   ],
   "source": [
    "peoples.shape"
   ]
  },
  {
   "cell_type": "code",
   "execution_count": 20,
   "metadata": {},
   "outputs": [
    {
     "data": {
      "text/plain": [
       "array([32, 24, 28, 29], dtype=int32)"
      ]
     },
     "execution_count": 20,
     "metadata": {},
     "output_type": "execute_result"
    }
   ],
   "source": [
    "ages = peoples[:]['age'] ## person 为1为数组 peoples[:] 表示取整行\n",
    "ages"
   ]
  },
  {
   "cell_type": "code",
   "execution_count": null,
   "metadata": {},
   "outputs": [],
   "source": [
    "### 连续数组的创建\n",
    "x1 = np.arrange(1,11,2)  ##参数说明 初值，终值，步长，默认不包含终值\n",
    "x2 = np.linspace(1,9,5)  ##参数说明 初始值，终值，元素个数，默认包含终值"
   ]
  },
  {
   "cell_type": "code",
   "execution_count": 22,
   "metadata": {},
   "outputs": [
    {
     "data": {
      "text/plain": [
       "(2, 3)"
      ]
     },
     "execution_count": 22,
     "metadata": {},
     "output_type": "execute_result"
    }
   ],
   "source": [
    "###统计函数\n",
    "a = np.array([[1,2,3],[4,5,6]])\n",
    "a.shape"
   ]
  },
  {
   "cell_type": "code",
   "execution_count": 23,
   "metadata": {},
   "outputs": [
    {
     "name": "stdout",
     "output_type": "stream",
     "text": [
      "[1 2 3]\n"
     ]
    }
   ],
   "source": [
    "###最大值，最小值类似\n",
    "print(np.amin(a,0))  ### axis=0, 参考 https://zhuanlan.zhihu.com/p/39287693"
   ]
  },
  {
   "cell_type": "code",
   "execution_count": 25,
   "metadata": {},
   "outputs": [
    {
     "name": "stdout",
     "output_type": "stream",
     "text": [
      "5.0\n",
      "[4. 5. 6.]\n",
      "[2. 5. 8.]\n"
     ]
    }
   ],
   "source": [
    "##统计数组的百分位数 percentlie\n",
    "a = np.array([[1,2,3], [4,5,6], [7,8,9]])\n",
    "print(np.percentile(a, 50))  ##percentile 的第二个参数从0-100，为50 表示平均值，100为最大值\n",
    "print(np.percentile(a, 50, axis=0))\n",
    "print(np.percentile(a, 50, axis=1))\n"
   ]
  },
  {
   "cell_type": "code",
   "execution_count": 27,
   "metadata": {},
   "outputs": [
    {
     "name": "stdout",
     "output_type": "stream",
     "text": [
      "5.0\n",
      "[4. 5. 6.]\n",
      "[2. 5. 8.]\n",
      "5.0\n",
      "[4. 5. 6.]\n",
      "[2. 5. 8.]\n"
     ]
    }
   ],
   "source": [
    "###平均值mean(), 和中位数 median()\n",
    "a = np.array([[1,2,3], [4,5,6], [7,8,9]])\n",
    "# 求中位数\n",
    "print(np.median(a))\n",
    "print(np.median(a, axis=0))\n",
    "print(np.median(a, axis=1))\n",
    "# 求平均数\n",
    "print(np.mean(a))\n",
    "print(np.mean(a, axis=0))\n",
    "print(np.mean(a, axis=1))\n"
   ]
  },
  {
   "cell_type": "code",
   "execution_count": 28,
   "metadata": {},
   "outputs": [
    {
     "name": "stdout",
     "output_type": "stream",
     "text": [
      "3.0\n"
     ]
    }
   ],
   "source": [
    "###average 平均值\n",
    "a = np.array([1,2,3,4])\n",
    "wts = np.array([1,2,3,4])\n",
    "print(np.average(a,weights=wts)) #(1*1+2*2+3*3+4*4)/(1+2+3+4)=3.0"
   ]
  },
  {
   "cell_type": "code",
   "execution_count": 29,
   "metadata": {},
   "outputs": [],
   "source": [
    "####标准差和偏差 （标准差 std, 方差 var）方差=mean((x - x.mean())** 2)\n",
    "a = np.array([1,2,3,4])\n",
    "print(np.std(a))\n",
    "print(np.var(a)) ## 方差的定义： "
   ]
  },
  {
   "cell_type": "code",
   "execution_count": 30,
   "metadata": {},
   "outputs": [
    {
     "name": "stdout",
     "output_type": "stream",
     "text": [
      "[[2 3 4]\n",
      " [1 2 4]]\n"
     ]
    }
   ],
   "source": [
    "### 排序  sort(a, axis=-1, kind=‘quicksort',order=None)\n",
    "a = np.array([[4,3,2],[2,4,1]])\n",
    "print(np.sort(a,axis=1))"
   ]
  },
  {
   "cell_type": "code",
   "execution_count": 41,
   "metadata": {},
   "outputs": [],
   "source": [
    "###练习\n",
    "persontype = np.dtype({'names':['name','chinese','english','math','total'],\n",
    "           'formats':['S32','i','i','i','i']})\n",
    "peoples = np.array([(\"zhangFei\",66,65,30,0),(\"GuanYu\",95,85,98,0),\n",
    "                    (\"zhaoYun\",93,92,96,0),(\"HuangZhong\",90,88,77,0),(\"DianWei\",80,90,90,0)],dtype=persontype)"
   ]
  },
  {
   "cell_type": "code",
   "execution_count": 42,
   "metadata": {},
   "outputs": [],
   "source": [
    "row_name = peoples.dtype.names"
   ]
  },
  {
   "cell_type": "code",
   "execution_count": 43,
   "metadata": {},
   "outputs": [
    {
     "name": "stdout",
     "output_type": "stream",
     "text": [
      "mean of chinese:84.8\n",
      "mean of english:84.0\n",
      "mean of math:78.2\n",
      "mean of total:0.0\n"
     ]
    }
   ],
   "source": [
    "for row_name in row_name:\n",
    "    if row_name is \"name\":\n",
    "        continue\n",
    "    print(\"mean of {}:{}\".format(row_name,peoples[row_name].mean()))"
   ]
  },
  {
   "cell_type": "code",
   "execution_count": 44,
   "metadata": {},
   "outputs": [],
   "source": [
    "###求总成绩之和，然后输出总分最高的, 增加一列\n",
    "peoples[:]['total'] = peoples[:]['chinese']+peoples[:]['english']+peoples[:]['math']"
   ]
  },
  {
   "cell_type": "code",
   "execution_count": 45,
   "metadata": {},
   "outputs": [
    {
     "data": {
      "text/plain": [
       "array([(b'zhangFei', 66, 65, 30, 161), (b'GuanYu', 95, 85, 98, 278),\n",
       "       (b'zhaoYun', 93, 92, 96, 281), (b'HuangZhong', 90, 88, 77, 255),\n",
       "       (b'DianWei', 80, 90, 90, 260)],\n",
       "      dtype=[('name', 'S32'), ('chinese', '<i4'), ('english', '<i4'), ('math', '<i4'), ('total', '<i4')])"
      ]
     },
     "execution_count": 45,
     "metadata": {},
     "output_type": "execute_result"
    }
   ],
   "source": [
    "peoples"
   ]
  },
  {
   "cell_type": "code",
   "execution_count": 46,
   "metadata": {},
   "outputs": [
    {
     "data": {
      "text/plain": [
       "array([(b'zhangFei', 66, 65, 30, 161), (b'HuangZhong', 90, 88, 77, 255),\n",
       "       (b'DianWei', 80, 90, 90, 260), (b'GuanYu', 95, 85, 98, 278),\n",
       "       (b'zhaoYun', 93, 92, 96, 281)],\n",
       "      dtype=[('name', 'S32'), ('chinese', '<i4'), ('english', '<i4'), ('math', '<i4'), ('total', '<i4')])"
      ]
     },
     "execution_count": 46,
     "metadata": {},
     "output_type": "execute_result"
    }
   ],
   "source": [
    "np.sort(peoples,order=\"total\")"
   ]
  },
  {
   "cell_type": "code",
   "execution_count": null,
   "metadata": {},
   "outputs": [],
   "source": []
  }
 ],
 "metadata": {
  "kernelspec": {
   "display_name": "Python 3",
   "language": "python",
   "name": "python3"
  },
  "language_info": {
   "codemirror_mode": {
    "name": "ipython",
    "version": 3
   },
   "file_extension": ".py",
   "mimetype": "text/x-python",
   "name": "python",
   "nbconvert_exporter": "python",
   "pygments_lexer": "ipython3",
   "version": "3.6.4"
  }
 },
 "nbformat": 4,
 "nbformat_minor": 1
}
